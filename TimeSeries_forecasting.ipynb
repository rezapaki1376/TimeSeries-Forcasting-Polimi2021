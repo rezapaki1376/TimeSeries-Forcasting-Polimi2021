{
 "cells": [
  {
   "cell_type": "code",
   "execution_count": 1,
   "metadata": {
    "execution": {
     "iopub.execute_input": "2022-01-21T19:13:52.671843Z",
     "iopub.status.busy": "2022-01-21T19:13:52.671431Z",
     "iopub.status.idle": "2022-01-21T19:13:52.709657Z",
     "shell.execute_reply": "2022-01-21T19:13:52.708959Z",
     "shell.execute_reply.started": "2022-01-21T19:13:52.671734Z"
    }
   },
   "outputs": [],
   "source": [
    "import os\n",
    "for dirname, _, filenames in os.walk('/kaggle/input'):\n",
    "    for filename in filenames:\n",
    "        print(os.path.join(dirname, filename))"
   ]
  },
  {
   "cell_type": "code",
   "execution_count": 2,
   "metadata": {
    "execution": {
     "iopub.execute_input": "2022-01-21T19:13:57.502474Z",
     "iopub.status.busy": "2022-01-21T19:13:57.502227Z",
     "iopub.status.idle": "2022-01-21T19:14:03.052437Z",
     "shell.execute_reply": "2022-01-21T19:14:03.051714Z",
     "shell.execute_reply.started": "2022-01-21T19:13:57.502445Z"
    }
   },
   "outputs": [],
   "source": [
    "import tensorflow as tf\n",
    "from keras.layers import MultiHeadAttention\n",
    "import numpy as np\n",
    "import os\n",
    "import random\n",
    "import pandas as pd\n",
    "import seaborn as sns\n",
    "from datetime import datetime\n",
    "import matplotlib.pyplot as plt\n",
    "plt.rc('font', size=16)\n",
    "from sklearn.preprocessing import MinMaxScaler\n",
    "import warnings\n",
    "warnings.filterwarnings('ignore')\n",
    "tf.get_logger().setLevel('ERROR')\n",
    "\n",
    "tfk = tf.keras\n",
    "tfkl = tf.keras.layers\n",
    "print(tf.__version__)"
   ]
  },
  {
   "cell_type": "code",
   "execution_count": 3,
   "metadata": {
    "execution": {
     "iopub.execute_input": "2022-01-21T19:14:03.054432Z",
     "iopub.status.busy": "2022-01-21T19:14:03.054178Z",
     "iopub.status.idle": "2022-01-21T19:14:03.060480Z",
     "shell.execute_reply": "2022-01-21T19:14:03.059684Z",
     "shell.execute_reply.started": "2022-01-21T19:14:03.054397Z"
    }
   },
   "outputs": [],
   "source": [
    "# Random seed for reproducibility\n",
    "seed = 42\n",
    "\n",
    "random.seed(seed)\n",
    "os.environ['PYTHONHASHSEED'] = str(seed)\n",
    "np.random.seed(seed)\n",
    "tf.random.set_seed(seed)\n",
    "tf.compat.v1.set_random_seed(seed)"
   ]
  },
  {
   "cell_type": "code",
   "execution_count": 4,
   "metadata": {
    "execution": {
     "iopub.execute_input": "2022-01-21T19:14:03.063199Z",
     "iopub.status.busy": "2022-01-21T19:14:03.061964Z",
     "iopub.status.idle": "2022-01-21T19:14:03.080398Z",
     "shell.execute_reply": "2022-01-21T19:14:03.079671Z",
     "shell.execute_reply.started": "2022-01-21T19:14:03.063158Z"
    }
   },
   "outputs": [],
   "source": [
    "# checking the available files in directory\n",
    "os.listdir('/kaggle/input/home-work2')"
   ]
  },
  {
   "cell_type": "code",
   "execution_count": 5,
   "metadata": {
    "execution": {
     "iopub.execute_input": "2022-01-21T19:14:03.082650Z",
     "iopub.status.busy": "2022-01-21T19:14:03.082202Z",
     "iopub.status.idle": "2022-01-21T19:14:03.240640Z",
     "shell.execute_reply": "2022-01-21T19:14:03.239691Z",
     "shell.execute_reply.started": "2022-01-21T19:14:03.082600Z"
    }
   },
   "outputs": [],
   "source": [
    "#loading the dataset as a CSV file\n",
    "dataset = pd.read_csv('/kaggle/input/home-work2/Training.csv')\n",
    "print(dataset.shape)\n",
    "dataset.head()"
   ]
  },
  {
   "cell_type": "code",
   "execution_count": 6,
   "metadata": {
    "execution": {
     "iopub.execute_input": "2022-01-21T19:14:03.242745Z",
     "iopub.status.busy": "2022-01-21T19:14:03.242014Z",
     "iopub.status.idle": "2022-01-21T19:14:03.264439Z",
     "shell.execute_reply": "2022-01-21T19:14:03.263343Z",
     "shell.execute_reply.started": "2022-01-21T19:14:03.242703Z"
    }
   },
   "outputs": [],
   "source": [
    "dataset.info()"
   ]
  },
  {
   "cell_type": "code",
   "execution_count": 7,
   "metadata": {
    "execution": {
     "iopub.execute_input": "2022-01-21T19:14:03.265901Z",
     "iopub.status.busy": "2022-01-21T19:14:03.265664Z",
     "iopub.status.idle": "2022-01-21T19:14:04.186340Z",
     "shell.execute_reply": "2022-01-21T19:14:04.185687Z",
     "shell.execute_reply.started": "2022-01-21T19:14:03.265869Z"
    }
   },
   "outputs": [],
   "source": [
    "def inspect_dataframe(df, columns):\n",
    "    figs, axs = plt.subplots(len(columns), 1, sharex=True, figsize=(17,17))\n",
    "    for i, col in enumerate(columns):\n",
    "        axs[i].plot(df[col])\n",
    "        axs[i].set_title(col)\n",
    "    plt.show()\n",
    "inspect_dataframe(dataset, dataset.columns)"
   ]
  },
  {
   "cell_type": "code",
   "execution_count": 8,
   "metadata": {
    "execution": {
     "iopub.execute_input": "2022-01-21T19:14:04.187533Z",
     "iopub.status.busy": "2022-01-21T19:14:04.187320Z",
     "iopub.status.idle": "2022-01-21T19:14:04.205254Z",
     "shell.execute_reply": "2022-01-21T19:14:04.204539Z",
     "shell.execute_reply.started": "2022-01-21T19:14:04.187503Z"
    }
   },
   "outputs": [],
   "source": [
    "val_size = 0\n",
    "X_train_raw = dataset.iloc[:]\n",
    "\n",
    "print(X_train_raw.shape)\n",
    "\n",
    "# MinMax normalization\n",
    "X_min = X_train_raw.min()\n",
    "X_max = X_train_raw.max()\n",
    "\n",
    "X_train_raw = (X_train_raw-X_min)/(X_max-X_min)\n"
   ]
  },
  {
   "cell_type": "code",
   "execution_count": 9,
   "metadata": {
    "execution": {
     "iopub.execute_input": "2022-01-21T19:14:04.206864Z",
     "iopub.status.busy": "2022-01-21T19:14:04.206583Z",
     "iopub.status.idle": "2022-01-21T19:14:04.210541Z",
     "shell.execute_reply": "2022-01-21T19:14:04.209685Z",
     "shell.execute_reply.started": "2022-01-21T19:14:04.206828Z"
    }
   },
   "outputs": [],
   "source": [
    "window = 400\n",
    "stride = 1"
   ]
  },
  {
   "cell_type": "code",
   "execution_count": 10,
   "metadata": {
    "execution": {
     "iopub.execute_input": "2022-01-21T19:14:04.689804Z",
     "iopub.status.busy": "2022-01-21T19:14:04.688377Z",
     "iopub.status.idle": "2022-01-21T19:14:04.698641Z",
     "shell.execute_reply": "2022-01-21T19:14:04.697902Z",
     "shell.execute_reply.started": "2022-01-21T19:14:04.689757Z"
    }
   },
   "outputs": [],
   "source": [
    "def build_sequences(df, target_labels=['pollution'], window=200, stride=20, telescope=100):\n",
    "    # Sanity check to avoid runtime errors\n",
    "    assert window % stride == 0\n",
    "    dataset = []\n",
    "    labels = []\n",
    "    temp_df = df.copy().values\n",
    "    temp_label = df[target_labels].copy().values\n",
    "    padding_len = len(df)%window\n",
    "\n",
    "    if(padding_len != 0):\n",
    "        # Compute padding length\n",
    "        padding_len = window - len(df)%window\n",
    "        padding = np.zeros((padding_len,temp_df.shape[1]), dtype='float64')\n",
    "        temp_df = np.concatenate((padding,df))\n",
    "        padding = np.zeros((padding_len,temp_label.shape[1]), dtype='float64')\n",
    "        temp_label = np.concatenate((padding,temp_label))\n",
    "        assert len(temp_df) % window == 0\n",
    "\n",
    "    for idx in np.arange(0,len(temp_df)-window-telescope,stride):\n",
    "        dataset.append(temp_df[idx:idx+window])\n",
    "        labels.append(temp_label[idx+window:idx+window+telescope])\n",
    "\n",
    "    dataset = np.array(dataset)\n",
    "    labels = np.array(labels)\n",
    "    return dataset, labels"
   ]
  },
  {
   "cell_type": "code",
   "execution_count": 11,
   "metadata": {
    "execution": {
     "iopub.execute_input": "2022-01-21T19:14:06.809328Z",
     "iopub.status.busy": "2022-01-21T19:14:06.809076Z",
     "iopub.status.idle": "2022-01-21T19:14:06.814239Z",
     "shell.execute_reply": "2022-01-21T19:14:06.813412Z",
     "shell.execute_reply.started": "2022-01-21T19:14:06.809298Z"
    }
   },
   "outputs": [],
   "source": [
    "target_labels = dataset.columns\n",
    "telescope = 864"
   ]
  },
  {
   "cell_type": "code",
   "execution_count": 12,
   "metadata": {
    "execution": {
     "iopub.execute_input": "2022-01-21T19:14:22.549518Z",
     "iopub.status.busy": "2022-01-21T19:14:22.549155Z",
     "iopub.status.idle": "2022-01-21T19:14:23.906714Z",
     "shell.execute_reply": "2022-01-21T19:14:23.906027Z",
     "shell.execute_reply.started": "2022-01-21T19:14:22.549383Z"
    }
   },
   "outputs": [],
   "source": [
    "X_train, y_train = build_sequences(X_train_raw, target_labels, window, stride, telescope)\n",
    "\n",
    "X_train.shape, y_train.shape"
   ]
  },
  {
   "cell_type": "code",
   "execution_count": 13,
   "metadata": {
    "execution": {
     "iopub.execute_input": "2022-01-21T19:14:23.908462Z",
     "iopub.status.busy": "2022-01-21T19:14:23.908199Z",
     "iopub.status.idle": "2022-01-21T19:14:23.915644Z",
     "shell.execute_reply": "2022-01-21T19:14:23.914969Z",
     "shell.execute_reply.started": "2022-01-21T19:14:23.908426Z"
    }
   },
   "outputs": [],
   "source": [
    "def inspect_multivariate(X, y, columns, telescope, idx=None):\n",
    "    if(idx==None):\n",
    "        idx=np.random.randint(0,len(X))\n",
    "\n",
    "    figs, axs = plt.subplots(len(columns), 1, sharex=True, figsize=(17,17))\n",
    "    for i, col in enumerate(columns):\n",
    "        axs[i].plot(np.arange(len(X[0,:,i])), X[idx,:,i])\n",
    "        axs[i].scatter(np.arange(len(X[0,:,i]), len(X_train[0,:,i])+telescope), y[idx,:,i], color='orange')\n",
    "        axs[i].set_title(col)\n",
    "        axs[i].set_ylim(0,1)\n",
    "    plt.show()"
   ]
  },
  {
   "cell_type": "code",
   "execution_count": 14,
   "metadata": {
    "execution": {
     "iopub.execute_input": "2022-01-21T19:14:24.974632Z",
     "iopub.status.busy": "2022-01-21T19:14:24.974243Z",
     "iopub.status.idle": "2022-01-21T19:14:25.702090Z",
     "shell.execute_reply": "2022-01-21T19:14:25.701443Z",
     "shell.execute_reply.started": "2022-01-21T19:14:24.974586Z"
    }
   },
   "outputs": [],
   "source": [
    "inspect_multivariate(X_train, y_train, target_labels, telescope)"
   ]
  },
  {
   "cell_type": "code",
   "execution_count": 15,
   "metadata": {
    "execution": {
     "iopub.execute_input": "2022-01-21T19:14:27.090961Z",
     "iopub.status.busy": "2022-01-21T19:14:27.090183Z",
     "iopub.status.idle": "2022-01-21T19:14:27.096265Z",
     "shell.execute_reply": "2022-01-21T19:14:27.095208Z",
     "shell.execute_reply.started": "2022-01-21T19:14:27.090908Z"
    }
   },
   "outputs": [],
   "source": [
    "input_shape = X_train.shape[1:]\n",
    "output_shape = y_train.shape[1:]\n",
    "batch_size = 64\n",
    "epochs = 200"
   ]
  },
  {
   "cell_type": "code",
   "execution_count": 16,
   "metadata": {
    "execution": {
     "iopub.execute_input": "2022-01-21T19:14:27.369387Z",
     "iopub.status.busy": "2022-01-21T19:14:27.368977Z",
     "iopub.status.idle": "2022-01-21T19:14:27.385464Z",
     "shell.execute_reply": "2022-01-21T19:14:27.384480Z",
     "shell.execute_reply.started": "2022-01-21T19:14:27.369344Z"
    }
   },
   "outputs": [],
   "source": [
    "def build_LSTM_model(input_shape, output_shape):\n",
    "    # Build the neural network layer by layer\n",
    "    input_layer = tfkl.Input(shape=input_shape, name='Input')\n",
    "\n",
    "    LSTM1 = tfkl.LSTM(64, return_sequences=True)(input_layer)\n",
    "\n",
    "    LSTM1 = tfkl.LSTM(128, return_sequences=True)(LSTM1)\n",
    "\n",
    "    Skip_LSTM = tfkl.LSTM(128, return_sequences=True)(input_layer)\n",
    "\n",
    "    LSTM1 = tfkl.GlobalAveragePooling1D()(LSTM1)\n",
    "    Skip_LSTM = tfkl.GlobalAveragePooling1D()(Skip_LSTM)\n",
    "\n",
    "    LSTM1 = tfkl.Dropout(.2)(LSTM1)\n",
    "    Skip_LSTM = tfkl.Dropout(.2)(Skip_LSTM)\n",
    "\n",
    "    flatt=tfkl.concatenate([LSTM1,Skip_LSTM])\n",
    "    \n",
    "    # In order to predict the next values for more than one channel,\n",
    "    # we can use a Dense layer with a number given by telescope*num_channels,\n",
    "    # followed by a Reshape layer to obtain a tensor of dimension \n",
    "    # [None, telescope, num_channels]\n",
    "    dense = tfkl.Dense(output_shape[-1]*output_shape[-2], activation='relu')(flatt)\n",
    "    output_layer = tfkl.Reshape((output_shape[-2],output_shape[-1]))(dense)\n",
    "\n",
    "    output_layer = tfkl.Conv1D(output_shape[-1], 1, padding='same')(output_layer)\n",
    "    # Connect input and output through the Model class\n",
    "    model = tfk.Model(inputs=input_layer, outputs=output_layer, name='model')\n",
    "\n",
    "    # Compile the model\n",
    "    model.compile(loss=tfk.losses.MeanSquaredError(), optimizer=tfk.optimizers.Adam(), metrics=['mae'])\n",
    "\n",
    "    # Return the model\n",
    "    return model"
   ]
  },
  {
   "cell_type": "code",
   "execution_count": 17,
   "metadata": {
    "execution": {
     "iopub.execute_input": "2022-01-21T19:14:27.979176Z",
     "iopub.status.busy": "2022-01-21T19:14:27.978915Z",
     "iopub.status.idle": "2022-01-21T19:14:31.913267Z",
     "shell.execute_reply": "2022-01-21T19:14:31.912488Z",
     "shell.execute_reply.started": "2022-01-21T19:14:27.979145Z"
    }
   },
   "outputs": [],
   "source": [
    "model = build_LSTM_model(input_shape, output_shape)\n",
    "model.summary()\n",
    "tfk.utils.plot_model(model, expand_nested=True)"
   ]
  },
  {
   "cell_type": "code",
   "execution_count": 18,
   "metadata": {
    "execution": {
     "iopub.execute_input": "2022-01-21T19:14:40.304642Z",
     "iopub.status.busy": "2022-01-21T19:14:40.304364Z",
     "iopub.status.idle": "2022-01-21T19:16:05.177831Z",
     "shell.execute_reply": "2022-01-21T19:16:05.176573Z",
     "shell.execute_reply.started": "2022-01-21T19:14:40.304594Z"
    }
   },
   "outputs": [],
   "source": [
    "# Train the model\n",
    "history = model.fit(\n",
    "    x = X_train,\n",
    "    y = y_train,\n",
    "    batch_size = batch_size,\n",
    "    epochs = epochs,\n",
    "    validation_split=.10,\n",
    "    callbacks = [\n",
    "        tfk.callbacks.EarlyStopping(monitor='val_loss', mode='min', patience=10, restore_best_weights=True),\n",
    "        tfk.callbacks.ReduceLROnPlateau(monitor='val_loss', mode='min', patience=5, factor=0.5, min_lr=1e-5)\n",
    "    ]\n",
    ").history"
   ]
  },
  {
   "cell_type": "code",
   "execution_count": null,
   "metadata": {
    "execution": {
     "iopub.status.busy": "2022-01-21T19:16:05.178806Z",
     "iopub.status.idle": "2022-01-21T19:16:05.179663Z",
     "shell.execute_reply": "2022-01-21T19:16:05.179415Z",
     "shell.execute_reply.started": "2022-01-21T19:16:05.179388Z"
    }
   },
   "outputs": [],
   "source": [
    "# plotting the loss and learning rate \n",
    "best_epoch = np.argmin(history['val_loss'])\n",
    "plt.figure(figsize=(17,4))\n",
    "plt.plot(history['loss'], label='Training loss', alpha=.8, color='#ff7f0e')\n",
    "plt.plot(history['val_loss'], label='Validation loss', alpha=.9, color='#5a9aa5')\n",
    "plt.axvline(x=best_epoch, label='Best epoch', alpha=.3, ls='--', color='#5a9aa5')\n",
    "plt.title('Mean Squared Error (Loss)')\n",
    "plt.legend()\n",
    "plt.grid(alpha=.3)\n",
    "plt.show()\n",
    "\n",
    "plt.figure(figsize=(17,4))\n",
    "plt.plot(history['mae'], label='Training accuracy', alpha=.8, color='#ff7f0e')\n",
    "plt.plot(history['val_mae'], label='Validation accuracy', alpha=.9, color='#5a9aa5')\n",
    "plt.axvline(x=best_epoch, label='Best epoch', alpha=.3, ls='--', color='#5a9aa5')\n",
    "plt.title('Mean Absolute Error')\n",
    "plt.legend()\n",
    "plt.grid(alpha=.3)\n",
    "plt.show()\n",
    "\n",
    "plt.figure(figsize=(18,3))\n",
    "plt.plot(history['lr'], label='Learning Rate', alpha=.8, color='#ff7f0e')\n",
    "plt.axvline(x=best_epoch, label='Best epoch', alpha=.3, ls='--', color='#5a9aa5')\n",
    "plt.legend()\n",
    "plt.grid(alpha=.3)\n",
    "plt.show()"
   ]
  },
  {
   "cell_type": "code",
   "execution_count": null,
   "metadata": {},
   "outputs": [],
   "source": [
    "# save the model\n",
    "model.save('/kaggle/output/home-work2/lstm1')"
   ]
  },
  {
   "cell_type": "code",
   "execution_count": null,
   "metadata": {},
   "outputs": [],
   "source": [
    "#getting the zip file and downloading it\n",
    "!zip -r lstm1.zip /kaggle/output/home-work2/lstm1"
   ]
  },
  {
   "cell_type": "code",
   "execution_count": 19,
   "metadata": {
    "execution": {
     "iopub.execute_input": "2022-01-21T19:17:01.852686Z",
     "iopub.status.busy": "2022-01-21T19:17:01.852411Z",
     "iopub.status.idle": "2022-01-21T19:17:01.862343Z",
     "shell.execute_reply": "2022-01-21T19:17:01.861533Z",
     "shell.execute_reply.started": "2022-01-21T19:17:01.852655Z"
    }
   },
   "outputs": [],
   "source": [
    "# building Multi-Head Attention based model\n",
    "def build_attention_model(input_shape, output_shape):\n",
    "    # Build the neural network layer by layer\n",
    "    input_layer = tfkl.Input(shape=input_shape, name='Input')\n",
    "    layer = MultiHeadAttention(num_heads=50 ,key_dim=10,)(input_layer,input_layer,input_layer)\n",
    "\n",
    "    flatt2 = tfkl.Flatten()(layer)\n",
    "    layer = tfkl.Dropout(.2)(flatt2)\n",
    "\n",
    "    dense = tfkl.Dense(output_shape[-1]*output_shape[-2], activation='relu')(layer)\n",
    "    output_layer = tfkl.Reshape((output_shape[-2],output_shape[-1]))(dense)\n",
    "\n",
    "    output_layer = tfkl.Conv1D(output_shape[-1], 1, padding='same')(output_layer)\n",
    "\n",
    "    model = tfk.Model(inputs=input_layer, outputs=output_layer, name='model')\n",
    "\n",
    "    # Compile the model\n",
    "    model.compile(loss=tfk.losses.MeanSquaredError(), optimizer=tfk.optimizers.Adam(), metrics=['mae'])\n",
    "\n",
    "    # Return the model\n",
    "    return model"
   ]
  },
  {
   "cell_type": "code",
   "execution_count": 20,
   "metadata": {
    "execution": {
     "iopub.execute_input": "2022-01-21T19:17:02.507715Z",
     "iopub.status.busy": "2022-01-21T19:17:02.507443Z",
     "iopub.status.idle": "2022-01-21T19:17:03.053336Z",
     "shell.execute_reply": "2022-01-21T19:17:03.052513Z",
     "shell.execute_reply.started": "2022-01-21T19:17:02.507681Z"
    }
   },
   "outputs": [],
   "source": [
    "model = build_attention_model(input_shape, output_shape)\n",
    "model.summary()\n",
    "tfk.utils.plot_model(model, expand_nested=True)"
   ]
  },
  {
   "cell_type": "code",
   "execution_count": null,
   "metadata": {
    "execution": {
     "iopub.execute_input": "2022-01-21T19:17:55.605894Z",
     "iopub.status.busy": "2022-01-21T19:17:55.604848Z"
    }
   },
   "outputs": [],
   "source": [
    "# Train the model\n",
    "history = model.fit(\n",
    "    x = X_train,\n",
    "    y = y_train,\n",
    "    batch_size = batch_size,\n",
    "    epochs = epochs,\n",
    "    validation_split=.10,\n",
    "    callbacks = [\n",
    "        tfk.callbacks.EarlyStopping(monitor='val_loss', mode='min', patience=10, restore_best_weights=True),\n",
    "        tfk.callbacks.ReduceLROnPlateau(monitor='val_loss', mode='min', patience=5, factor=0.5, min_lr=1e-5)\n",
    "    ]\n",
    ").history"
   ]
  },
  {
   "cell_type": "code",
   "execution_count": null,
   "metadata": {
    "execution": {
     "iopub.execute_input": "2022-01-15T11:05:03.594682Z",
     "iopub.status.busy": "2022-01-15T11:05:03.59396Z",
     "iopub.status.idle": "2022-01-15T11:05:04.244813Z",
     "shell.execute_reply": "2022-01-15T11:05:04.24412Z",
     "shell.execute_reply.started": "2022-01-15T11:05:03.594638Z"
    }
   },
   "outputs": [],
   "source": [
    "# plotting the loss and learning rate \n",
    "best_epoch = np.argmin(history['val_loss'])\n",
    "plt.figure(figsize=(17,4))\n",
    "plt.plot(history['loss'], label='Training loss', alpha=.8, color='#ff7f0e')\n",
    "plt.plot(history['val_loss'], label='Validation loss', alpha=.9, color='#5a9aa5')\n",
    "plt.axvline(x=best_epoch, label='Best epoch', alpha=.3, ls='--', color='#5a9aa5')\n",
    "plt.title('Mean Squared Error (Loss)')\n",
    "plt.legend()\n",
    "plt.grid(alpha=.3)\n",
    "plt.show()\n",
    "\n",
    "plt.figure(figsize=(17,4))\n",
    "plt.plot(history['mae'], label='Training accuracy', alpha=.8, color='#ff7f0e')\n",
    "plt.plot(history['val_mae'], label='Validation accuracy', alpha=.9, color='#5a9aa5')\n",
    "plt.axvline(x=best_epoch, label='Best epoch', alpha=.3, ls='--', color='#5a9aa5')\n",
    "plt.title('Mean Absolute Error')\n",
    "plt.legend()\n",
    "plt.grid(alpha=.3)\n",
    "plt.show()\n",
    "\n",
    "plt.figure(figsize=(18,3))\n",
    "plt.plot(history['lr'], label='Learning Rate', alpha=.8, color='#ff7f0e')\n",
    "plt.axvline(x=best_epoch, label='Best epoch', alpha=.3, ls='--', color='#5a9aa5')\n",
    "plt.legend()\n",
    "plt.grid(alpha=.3)\n",
    "plt.show()"
   ]
  },
  {
   "cell_type": "code",
   "execution_count": null,
   "metadata": {
    "execution": {
     "iopub.execute_input": "2022-01-15T11:05:11.28272Z",
     "iopub.status.busy": "2022-01-15T11:05:11.282332Z",
     "iopub.status.idle": "2022-01-15T11:05:13.279873Z",
     "shell.execute_reply": "2022-01-15T11:05:13.279102Z",
     "shell.execute_reply.started": "2022-01-15T11:05:11.282672Z"
    }
   },
   "outputs": [],
   "source": [
    "model.save('/kaggle/output/home-work2/attention')\n",
    "# model = tfk.models.load_model('DirectForecasting')"
   ]
  },
  {
   "cell_type": "code",
   "execution_count": null,
   "metadata": {
    "execution": {
     "iopub.execute_input": "2022-01-15T11:05:18.638331Z",
     "iopub.status.busy": "2022-01-15T11:05:18.637674Z",
     "iopub.status.idle": "2022-01-15T11:05:24.061108Z",
     "shell.execute_reply": "2022-01-15T11:05:24.060174Z",
     "shell.execute_reply.started": "2022-01-15T11:05:18.638278Z"
    }
   },
   "outputs": [],
   "source": [
    "#getting the zip file and downloading it\n",
    "!zip -r attention.zip /kaggle/output/home-work2/attention"
   ]
  }
 ],
 "metadata": {
  "kernelspec": {
   "display_name": "Python 3",
   "language": "python",
   "name": "python3"
  },
  "language_info": {
   "codemirror_mode": {
    "name": "ipython",
    "version": 3
   },
   "file_extension": ".py",
   "mimetype": "text/x-python",
   "name": "python",
   "nbconvert_exporter": "python",
   "pygments_lexer": "ipython3",
   "version": "3.6.7"
  }
 },
 "nbformat": 4,
 "nbformat_minor": 4
}
